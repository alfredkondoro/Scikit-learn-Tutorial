{
 "cells": [
  {
   "cell_type": "code",
   "execution_count": 1,
   "id": "7440d0ea",
   "metadata": {
    "execution": {
     "iopub.execute_input": "2023-12-05T13:54:00.500454Z",
     "iopub.status.busy": "2023-12-05T13:54:00.499981Z",
     "iopub.status.idle": "2023-12-05T13:54:02.536993Z",
     "shell.execute_reply": "2023-12-05T13:54:02.535401Z"
    },
    "papermill": {
     "duration": 2.048458,
     "end_time": "2023-12-05T13:54:02.539908",
     "exception": false,
     "start_time": "2023-12-05T13:54:00.491450",
     "status": "completed"
    },
    "tags": []
   },
   "outputs": [],
   "source": [
    "#import the libraries and packages\n",
    "import numpy as np\n",
    "import matplotlib.pyplot as plt\n",
    "from sklearn import svm\n",
    "\n",
    "from sklearn.datasets import load_iris\n",
    "from sklearn.datasets import make_regression \n",
    "\n",
    "from sklearn.linear_model import LinearRegression\n",
    "from sklearn.model_selection import train_test_split\n",
    "from sklearn.metrics import accuracy_score\n",
    "from sklearn.metrics import mean_squared_error\n",
    "from sklearn.cluster import KMeans\n",
    "from sklearn.datasets import make_blobs"
   ]
  },
  {
   "cell_type": "markdown",
   "id": "9432002a",
   "metadata": {
    "papermill": {
     "duration": 0.007039,
     "end_time": "2023-12-05T13:54:02.556345",
     "exception": false,
     "start_time": "2023-12-05T13:54:02.549306",
     "status": "completed"
    },
    "tags": []
   },
   "source": [
    "## **Classification**"
   ]
  },
  {
   "cell_type": "code",
   "execution_count": 2,
   "id": "aaa3ce0a",
   "metadata": {
    "execution": {
     "iopub.execute_input": "2023-12-05T13:54:02.570868Z",
     "iopub.status.busy": "2023-12-05T13:54:02.570393Z",
     "iopub.status.idle": "2023-12-05T13:54:02.583290Z",
     "shell.execute_reply": "2023-12-05T13:54:02.582317Z"
    },
    "papermill": {
     "duration": 0.023697,
     "end_time": "2023-12-05T13:54:02.586335",
     "exception": false,
     "start_time": "2023-12-05T13:54:02.562638",
     "status": "completed"
    },
    "tags": []
   },
   "outputs": [],
   "source": [
    "#load iris dataset\n",
    "iris = load_iris()\n",
    "X = iris.data\n",
    "y = iris.target"
   ]
  },
  {
   "cell_type": "code",
   "execution_count": 3,
   "id": "cf323f57",
   "metadata": {
    "execution": {
     "iopub.execute_input": "2023-12-05T13:54:02.602631Z",
     "iopub.status.busy": "2023-12-05T13:54:02.601037Z",
     "iopub.status.idle": "2023-12-05T13:54:02.610457Z",
     "shell.execute_reply": "2023-12-05T13:54:02.609576Z"
    },
    "papermill": {
     "duration": 0.020943,
     "end_time": "2023-12-05T13:54:02.614003",
     "exception": false,
     "start_time": "2023-12-05T13:54:02.593060",
     "status": "completed"
    },
    "tags": []
   },
   "outputs": [],
   "source": [
    "#split the datasets\n",
    "X_train, X_test, y_train, y_test = train_test_split(X, y, test_size=0.2, random_state=42)"
   ]
  },
  {
   "cell_type": "code",
   "execution_count": 4,
   "id": "00ea8a1f",
   "metadata": {
    "execution": {
     "iopub.execute_input": "2023-12-05T13:54:02.628906Z",
     "iopub.status.busy": "2023-12-05T13:54:02.628205Z",
     "iopub.status.idle": "2023-12-05T13:54:02.645049Z",
     "shell.execute_reply": "2023-12-05T13:54:02.643505Z"
    },
    "papermill": {
     "duration": 0.027927,
     "end_time": "2023-12-05T13:54:02.648228",
     "exception": false,
     "start_time": "2023-12-05T13:54:02.620301",
     "status": "completed"
    },
    "tags": []
   },
   "outputs": [
    {
     "data": {
      "text/html": [
       "<style>#sk-container-id-1 {color: black;background-color: white;}#sk-container-id-1 pre{padding: 0;}#sk-container-id-1 div.sk-toggleable {background-color: white;}#sk-container-id-1 label.sk-toggleable__label {cursor: pointer;display: block;width: 100%;margin-bottom: 0;padding: 0.3em;box-sizing: border-box;text-align: center;}#sk-container-id-1 label.sk-toggleable__label-arrow:before {content: \"▸\";float: left;margin-right: 0.25em;color: #696969;}#sk-container-id-1 label.sk-toggleable__label-arrow:hover:before {color: black;}#sk-container-id-1 div.sk-estimator:hover label.sk-toggleable__label-arrow:before {color: black;}#sk-container-id-1 div.sk-toggleable__content {max-height: 0;max-width: 0;overflow: hidden;text-align: left;background-color: #f0f8ff;}#sk-container-id-1 div.sk-toggleable__content pre {margin: 0.2em;color: black;border-radius: 0.25em;background-color: #f0f8ff;}#sk-container-id-1 input.sk-toggleable__control:checked~div.sk-toggleable__content {max-height: 200px;max-width: 100%;overflow: auto;}#sk-container-id-1 input.sk-toggleable__control:checked~label.sk-toggleable__label-arrow:before {content: \"▾\";}#sk-container-id-1 div.sk-estimator input.sk-toggleable__control:checked~label.sk-toggleable__label {background-color: #d4ebff;}#sk-container-id-1 div.sk-label input.sk-toggleable__control:checked~label.sk-toggleable__label {background-color: #d4ebff;}#sk-container-id-1 input.sk-hidden--visually {border: 0;clip: rect(1px 1px 1px 1px);clip: rect(1px, 1px, 1px, 1px);height: 1px;margin: -1px;overflow: hidden;padding: 0;position: absolute;width: 1px;}#sk-container-id-1 div.sk-estimator {font-family: monospace;background-color: #f0f8ff;border: 1px dotted black;border-radius: 0.25em;box-sizing: border-box;margin-bottom: 0.5em;}#sk-container-id-1 div.sk-estimator:hover {background-color: #d4ebff;}#sk-container-id-1 div.sk-parallel-item::after {content: \"\";width: 100%;border-bottom: 1px solid gray;flex-grow: 1;}#sk-container-id-1 div.sk-label:hover label.sk-toggleable__label {background-color: #d4ebff;}#sk-container-id-1 div.sk-serial::before {content: \"\";position: absolute;border-left: 1px solid gray;box-sizing: border-box;top: 0;bottom: 0;left: 50%;z-index: 0;}#sk-container-id-1 div.sk-serial {display: flex;flex-direction: column;align-items: center;background-color: white;padding-right: 0.2em;padding-left: 0.2em;position: relative;}#sk-container-id-1 div.sk-item {position: relative;z-index: 1;}#sk-container-id-1 div.sk-parallel {display: flex;align-items: stretch;justify-content: center;background-color: white;position: relative;}#sk-container-id-1 div.sk-item::before, #sk-container-id-1 div.sk-parallel-item::before {content: \"\";position: absolute;border-left: 1px solid gray;box-sizing: border-box;top: 0;bottom: 0;left: 50%;z-index: -1;}#sk-container-id-1 div.sk-parallel-item {display: flex;flex-direction: column;z-index: 1;position: relative;background-color: white;}#sk-container-id-1 div.sk-parallel-item:first-child::after {align-self: flex-end;width: 50%;}#sk-container-id-1 div.sk-parallel-item:last-child::after {align-self: flex-start;width: 50%;}#sk-container-id-1 div.sk-parallel-item:only-child::after {width: 0;}#sk-container-id-1 div.sk-dashed-wrapped {border: 1px dashed gray;margin: 0 0.4em 0.5em 0.4em;box-sizing: border-box;padding-bottom: 0.4em;background-color: white;}#sk-container-id-1 div.sk-label label {font-family: monospace;font-weight: bold;display: inline-block;line-height: 1.2em;}#sk-container-id-1 div.sk-label-container {text-align: center;}#sk-container-id-1 div.sk-container {/* jupyter's `normalize.less` sets `[hidden] { display: none; }` but bootstrap.min.css set `[hidden] { display: none !important; }` so we also need the `!important` here to be able to override the default hidden behavior on the sphinx rendered scikit-learn.org. See: https://github.com/scikit-learn/scikit-learn/issues/21755 */display: inline-block !important;position: relative;}#sk-container-id-1 div.sk-text-repr-fallback {display: none;}</style><div id=\"sk-container-id-1\" class=\"sk-top-container\"><div class=\"sk-text-repr-fallback\"><pre>SVC()</pre><b>In a Jupyter environment, please rerun this cell to show the HTML representation or trust the notebook. <br />On GitHub, the HTML representation is unable to render, please try loading this page with nbviewer.org.</b></div><div class=\"sk-container\" hidden><div class=\"sk-item\"><div class=\"sk-estimator sk-toggleable\"><input class=\"sk-toggleable__control sk-hidden--visually\" id=\"sk-estimator-id-1\" type=\"checkbox\" checked><label for=\"sk-estimator-id-1\" class=\"sk-toggleable__label sk-toggleable__label-arrow\">SVC</label><div class=\"sk-toggleable__content\"><pre>SVC()</pre></div></div></div></div></div>"
      ],
      "text/plain": [
       "SVC()"
      ]
     },
     "execution_count": 4,
     "metadata": {},
     "output_type": "execute_result"
    }
   ],
   "source": [
    "#create SVM clasifier and train\n",
    "classifier = svm.SVC()\n",
    "classifier.fit(X_train, y_train)"
   ]
  },
  {
   "cell_type": "code",
   "execution_count": 5,
   "id": "bdfdc4af",
   "metadata": {
    "execution": {
     "iopub.execute_input": "2023-12-05T13:54:02.665336Z",
     "iopub.status.busy": "2023-12-05T13:54:02.664636Z",
     "iopub.status.idle": "2023-12-05T13:54:02.673075Z",
     "shell.execute_reply": "2023-12-05T13:54:02.671835Z"
    },
    "papermill": {
     "duration": 0.019627,
     "end_time": "2023-12-05T13:54:02.675590",
     "exception": false,
     "start_time": "2023-12-05T13:54:02.655963",
     "status": "completed"
    },
    "tags": []
   },
   "outputs": [
    {
     "data": {
      "text/plain": [
       "array([1, 0, 2, 1, 1, 0, 1, 2, 1, 1, 2, 0, 0, 0, 0, 1, 2, 1, 1, 2, 0, 2,\n",
       "       0, 2, 2, 2, 2, 2, 0, 0])"
      ]
     },
     "execution_count": 5,
     "metadata": {},
     "output_type": "execute_result"
    }
   ],
   "source": [
    "#make predictions on the test set\n",
    "y_pred = classifier.predict(X_test)\n",
    "y_pred"
   ]
  },
  {
   "cell_type": "code",
   "execution_count": 6,
   "id": "1ce3f2da",
   "metadata": {
    "execution": {
     "iopub.execute_input": "2023-12-05T13:54:02.691116Z",
     "iopub.status.busy": "2023-12-05T13:54:02.690375Z",
     "iopub.status.idle": "2023-12-05T13:54:02.697924Z",
     "shell.execute_reply": "2023-12-05T13:54:02.696718Z"
    },
    "papermill": {
     "duration": 0.018885,
     "end_time": "2023-12-05T13:54:02.701023",
     "exception": false,
     "start_time": "2023-12-05T13:54:02.682138",
     "status": "completed"
    },
    "tags": []
   },
   "outputs": [
    {
     "name": "stdout",
     "output_type": "stream",
     "text": [
      "Accuracy: 1.0\n"
     ]
    }
   ],
   "source": [
    "#calculate accuracy\n",
    "accuracy = accuracy_score(y_test, y_pred)\n",
    "print(\"Accuracy:\", accuracy)"
   ]
  },
  {
   "cell_type": "markdown",
   "id": "e307bcc6",
   "metadata": {
    "papermill": {
     "duration": 0.006795,
     "end_time": "2023-12-05T13:54:02.714910",
     "exception": false,
     "start_time": "2023-12-05T13:54:02.708115",
     "status": "completed"
    },
    "tags": []
   },
   "source": [
    "## **Regression**"
   ]
  },
  {
   "cell_type": "code",
   "execution_count": 7,
   "id": "bb16b9cf",
   "metadata": {
    "execution": {
     "iopub.execute_input": "2023-12-05T13:54:02.730828Z",
     "iopub.status.busy": "2023-12-05T13:54:02.730096Z",
     "iopub.status.idle": "2023-12-05T13:54:02.736003Z",
     "shell.execute_reply": "2023-12-05T13:54:02.735034Z"
    },
    "papermill": {
     "duration": 0.016933,
     "end_time": "2023-12-05T13:54:02.738647",
     "exception": false,
     "start_time": "2023-12-05T13:54:02.721714",
     "status": "completed"
    },
    "tags": []
   },
   "outputs": [],
   "source": [
    "#generate a random regression dataset\n",
    "X,y = make_regression(n_samples=100, n_features=1, noise=0.2)"
   ]
  },
  {
   "cell_type": "code",
   "execution_count": 8,
   "id": "5c851aba",
   "metadata": {
    "execution": {
     "iopub.execute_input": "2023-12-05T13:54:02.755504Z",
     "iopub.status.busy": "2023-12-05T13:54:02.754777Z",
     "iopub.status.idle": "2023-12-05T13:54:02.760285Z",
     "shell.execute_reply": "2023-12-05T13:54:02.759356Z"
    },
    "papermill": {
     "duration": 0.016548,
     "end_time": "2023-12-05T13:54:02.762991",
     "exception": false,
     "start_time": "2023-12-05T13:54:02.746443",
     "status": "completed"
    },
    "tags": []
   },
   "outputs": [],
   "source": [
    "#split the datasets\n",
    "X_train, X_test, y_train, y_test = train_test_split(X, y, test_size=0.2, random_state=42)"
   ]
  },
  {
   "cell_type": "code",
   "execution_count": 9,
   "id": "eca89c61",
   "metadata": {
    "execution": {
     "iopub.execute_input": "2023-12-05T13:54:02.779265Z",
     "iopub.status.busy": "2023-12-05T13:54:02.778138Z",
     "iopub.status.idle": "2023-12-05T13:54:02.803834Z",
     "shell.execute_reply": "2023-12-05T13:54:02.802585Z"
    },
    "papermill": {
     "duration": 0.036735,
     "end_time": "2023-12-05T13:54:02.806509",
     "exception": false,
     "start_time": "2023-12-05T13:54:02.769774",
     "status": "completed"
    },
    "tags": []
   },
   "outputs": [
    {
     "data": {
      "text/html": [
       "<style>#sk-container-id-2 {color: black;background-color: white;}#sk-container-id-2 pre{padding: 0;}#sk-container-id-2 div.sk-toggleable {background-color: white;}#sk-container-id-2 label.sk-toggleable__label {cursor: pointer;display: block;width: 100%;margin-bottom: 0;padding: 0.3em;box-sizing: border-box;text-align: center;}#sk-container-id-2 label.sk-toggleable__label-arrow:before {content: \"▸\";float: left;margin-right: 0.25em;color: #696969;}#sk-container-id-2 label.sk-toggleable__label-arrow:hover:before {color: black;}#sk-container-id-2 div.sk-estimator:hover label.sk-toggleable__label-arrow:before {color: black;}#sk-container-id-2 div.sk-toggleable__content {max-height: 0;max-width: 0;overflow: hidden;text-align: left;background-color: #f0f8ff;}#sk-container-id-2 div.sk-toggleable__content pre {margin: 0.2em;color: black;border-radius: 0.25em;background-color: #f0f8ff;}#sk-container-id-2 input.sk-toggleable__control:checked~div.sk-toggleable__content {max-height: 200px;max-width: 100%;overflow: auto;}#sk-container-id-2 input.sk-toggleable__control:checked~label.sk-toggleable__label-arrow:before {content: \"▾\";}#sk-container-id-2 div.sk-estimator input.sk-toggleable__control:checked~label.sk-toggleable__label {background-color: #d4ebff;}#sk-container-id-2 div.sk-label input.sk-toggleable__control:checked~label.sk-toggleable__label {background-color: #d4ebff;}#sk-container-id-2 input.sk-hidden--visually {border: 0;clip: rect(1px 1px 1px 1px);clip: rect(1px, 1px, 1px, 1px);height: 1px;margin: -1px;overflow: hidden;padding: 0;position: absolute;width: 1px;}#sk-container-id-2 div.sk-estimator {font-family: monospace;background-color: #f0f8ff;border: 1px dotted black;border-radius: 0.25em;box-sizing: border-box;margin-bottom: 0.5em;}#sk-container-id-2 div.sk-estimator:hover {background-color: #d4ebff;}#sk-container-id-2 div.sk-parallel-item::after {content: \"\";width: 100%;border-bottom: 1px solid gray;flex-grow: 1;}#sk-container-id-2 div.sk-label:hover label.sk-toggleable__label {background-color: #d4ebff;}#sk-container-id-2 div.sk-serial::before {content: \"\";position: absolute;border-left: 1px solid gray;box-sizing: border-box;top: 0;bottom: 0;left: 50%;z-index: 0;}#sk-container-id-2 div.sk-serial {display: flex;flex-direction: column;align-items: center;background-color: white;padding-right: 0.2em;padding-left: 0.2em;position: relative;}#sk-container-id-2 div.sk-item {position: relative;z-index: 1;}#sk-container-id-2 div.sk-parallel {display: flex;align-items: stretch;justify-content: center;background-color: white;position: relative;}#sk-container-id-2 div.sk-item::before, #sk-container-id-2 div.sk-parallel-item::before {content: \"\";position: absolute;border-left: 1px solid gray;box-sizing: border-box;top: 0;bottom: 0;left: 50%;z-index: -1;}#sk-container-id-2 div.sk-parallel-item {display: flex;flex-direction: column;z-index: 1;position: relative;background-color: white;}#sk-container-id-2 div.sk-parallel-item:first-child::after {align-self: flex-end;width: 50%;}#sk-container-id-2 div.sk-parallel-item:last-child::after {align-self: flex-start;width: 50%;}#sk-container-id-2 div.sk-parallel-item:only-child::after {width: 0;}#sk-container-id-2 div.sk-dashed-wrapped {border: 1px dashed gray;margin: 0 0.4em 0.5em 0.4em;box-sizing: border-box;padding-bottom: 0.4em;background-color: white;}#sk-container-id-2 div.sk-label label {font-family: monospace;font-weight: bold;display: inline-block;line-height: 1.2em;}#sk-container-id-2 div.sk-label-container {text-align: center;}#sk-container-id-2 div.sk-container {/* jupyter's `normalize.less` sets `[hidden] { display: none; }` but bootstrap.min.css set `[hidden] { display: none !important; }` so we also need the `!important` here to be able to override the default hidden behavior on the sphinx rendered scikit-learn.org. See: https://github.com/scikit-learn/scikit-learn/issues/21755 */display: inline-block !important;position: relative;}#sk-container-id-2 div.sk-text-repr-fallback {display: none;}</style><div id=\"sk-container-id-2\" class=\"sk-top-container\"><div class=\"sk-text-repr-fallback\"><pre>LinearRegression()</pre><b>In a Jupyter environment, please rerun this cell to show the HTML representation or trust the notebook. <br />On GitHub, the HTML representation is unable to render, please try loading this page with nbviewer.org.</b></div><div class=\"sk-container\" hidden><div class=\"sk-item\"><div class=\"sk-estimator sk-toggleable\"><input class=\"sk-toggleable__control sk-hidden--visually\" id=\"sk-estimator-id-2\" type=\"checkbox\" checked><label for=\"sk-estimator-id-2\" class=\"sk-toggleable__label sk-toggleable__label-arrow\">LinearRegression</label><div class=\"sk-toggleable__content\"><pre>LinearRegression()</pre></div></div></div></div></div>"
      ],
      "text/plain": [
       "LinearRegression()"
      ]
     },
     "execution_count": 9,
     "metadata": {},
     "output_type": "execute_result"
    }
   ],
   "source": [
    "#create a linear regression model and train\n",
    "regressor = LinearRegression()\n",
    "regressor.fit(X_train, y_train)"
   ]
  },
  {
   "cell_type": "code",
   "execution_count": 10,
   "id": "0c36cd0e",
   "metadata": {
    "execution": {
     "iopub.execute_input": "2023-12-05T13:54:02.823853Z",
     "iopub.status.busy": "2023-12-05T13:54:02.822985Z",
     "iopub.status.idle": "2023-12-05T13:54:02.832834Z",
     "shell.execute_reply": "2023-12-05T13:54:02.831436Z"
    },
    "papermill": {
     "duration": 0.021349,
     "end_time": "2023-12-05T13:54:02.835588",
     "exception": false,
     "start_time": "2023-12-05T13:54:02.814239",
     "status": "completed"
    },
    "tags": []
   },
   "outputs": [
    {
     "data": {
      "text/plain": [
       "array([  4.28038743, -14.01119175,   6.32892233,  -9.39526637,\n",
       "        21.66637457,  11.51611385,  -4.91398191,   3.89865605,\n",
       "        18.18595022,   7.61777175, -14.57173155,  -2.35957907,\n",
       "         1.88539165,   4.4811959 ,   6.97584701, -21.60818623,\n",
       "         0.33931739,   5.91467963, -13.55287236,  -1.86994884])"
      ]
     },
     "execution_count": 10,
     "metadata": {},
     "output_type": "execute_result"
    }
   ],
   "source": [
    "#make predictions on the test set\n",
    "y_pred = regressor.predict(X_test)\n",
    "y_pred"
   ]
  },
  {
   "cell_type": "code",
   "execution_count": 11,
   "id": "920b346b",
   "metadata": {
    "execution": {
     "iopub.execute_input": "2023-12-05T13:54:02.852877Z",
     "iopub.status.busy": "2023-12-05T13:54:02.852364Z",
     "iopub.status.idle": "2023-12-05T13:54:02.860377Z",
     "shell.execute_reply": "2023-12-05T13:54:02.858646Z"
    },
    "papermill": {
     "duration": 0.019746,
     "end_time": "2023-12-05T13:54:02.863313",
     "exception": false,
     "start_time": "2023-12-05T13:54:02.843567",
     "status": "completed"
    },
    "tags": []
   },
   "outputs": [
    {
     "name": "stdout",
     "output_type": "stream",
     "text": [
      "Mean Squared Error:  0.04815346077046475\n"
     ]
    }
   ],
   "source": [
    "#calculate mean squared error of predictions\n",
    "mse = mean_squared_error(y_test, y_pred)\n",
    "print(\"Mean Squared Error: \", mse)"
   ]
  },
  {
   "cell_type": "markdown",
   "id": "3b93e605",
   "metadata": {
    "papermill": {
     "duration": 0.006856,
     "end_time": "2023-12-05T13:54:02.877544",
     "exception": false,
     "start_time": "2023-12-05T13:54:02.870688",
     "status": "completed"
    },
    "tags": []
   },
   "source": [
    "## **Clustering**"
   ]
  },
  {
   "cell_type": "code",
   "execution_count": 12,
   "id": "884657ce",
   "metadata": {
    "execution": {
     "iopub.execute_input": "2023-12-05T13:54:02.895588Z",
     "iopub.status.busy": "2023-12-05T13:54:02.894945Z",
     "iopub.status.idle": "2023-12-05T13:54:02.902246Z",
     "shell.execute_reply": "2023-12-05T13:54:02.900969Z"
    },
    "papermill": {
     "duration": 0.020464,
     "end_time": "2023-12-05T13:54:02.905070",
     "exception": false,
     "start_time": "2023-12-05T13:54:02.884606",
     "status": "completed"
    },
    "tags": []
   },
   "outputs": [],
   "source": [
    "#generate a random dataset\n",
    "X, y = make_blobs(n_samples=300, centers=4,  random_state=42)"
   ]
  },
  {
   "cell_type": "code",
   "execution_count": 13,
   "id": "52353525",
   "metadata": {
    "execution": {
     "iopub.execute_input": "2023-12-05T13:54:02.922906Z",
     "iopub.status.busy": "2023-12-05T13:54:02.922128Z",
     "iopub.status.idle": "2023-12-05T13:54:03.014793Z",
     "shell.execute_reply": "2023-12-05T13:54:03.013605Z"
    },
    "papermill": {
     "duration": 0.105752,
     "end_time": "2023-12-05T13:54:03.018074",
     "exception": false,
     "start_time": "2023-12-05T13:54:02.912322",
     "status": "completed"
    },
    "tags": []
   },
   "outputs": [
    {
     "name": "stderr",
     "output_type": "stream",
     "text": [
      "/opt/conda/lib/python3.10/site-packages/sklearn/cluster/_kmeans.py:870: FutureWarning: The default value of `n_init` will change from 10 to 'auto' in 1.4. Set the value of `n_init` explicitly to suppress the warning\n",
      "  warnings.warn(\n"
     ]
    }
   ],
   "source": [
    "#create a model. perform clustering and get labels\n",
    "kmeans = KMeans(n_clusters=4)\n",
    "kmeans.fit(X)\n",
    "labels = kmeans.labels_"
   ]
  },
  {
   "cell_type": "code",
   "execution_count": 14,
   "id": "4a484cde",
   "metadata": {
    "execution": {
     "iopub.execute_input": "2023-12-05T13:54:03.037518Z",
     "iopub.status.busy": "2023-12-05T13:54:03.036974Z",
     "iopub.status.idle": "2023-12-05T13:54:03.425191Z",
     "shell.execute_reply": "2023-12-05T13:54:03.423706Z"
    },
    "papermill": {
     "duration": 0.400832,
     "end_time": "2023-12-05T13:54:03.428040",
     "exception": false,
     "start_time": "2023-12-05T13:54:03.027208",
     "status": "completed"
    },
    "tags": []
   },
   "outputs": [
    {
     "data": {
      "image/png": "[encoded data removed]",
      "text/plain": [
       "<Figure size 640x480 with 1 Axes>"
      ]
     },
     "metadata": {},
     "output_type": "display_data"
    }
   ],
   "source": [
    "# Visualize the clusters\n",
    "plt.scatter(X[:, 0], X[:, 1], c=labels)\n",
    "plt.title(\"K-means Clustering\")\n",
    "plt.xlabel(\"Feature 1\")\n",
    "plt.ylabel(\"Feature 2\")\n",
    "plt.show()"
   ]
  }
 ],
 "metadata": {
  "kaggle": {
   "accelerator": "none",
   "dataSources": [],
   "dockerImageVersionId": 30587,
   "isGpuEnabled": false,
   "isInternetEnabled": true,
   "language": "python",
   "sourceType": "notebook"
  },
  "kernelspec": {
   "display_name": "Python 3",
   "language": "python",
   "name": "python3"
  },
  "language_info": {
   "codemirror_mode": {
    "name": "ipython",
    "version": 3
   },
   "file_extension": ".py",
   "mimetype": "text/x-python",
   "name": "python",
   "nbconvert_exporter": "python",
   "pygments_lexer": "ipython3",
   "version": "3.10.12"
  },
  "papermill": {
   "default_parameters": {},
   "duration": 9.644749,
   "end_time": "2023-12-05T13:54:06.293896",
   "environment_variables": {},
   "exception": null,
   "input_path": "__notebook__.ipynb",
   "output_path": "__notebook__.ipynb",
   "parameters": {},
   "start_time": "2023-12-05T13:53:56.649147",
   "version": "2.4.0"
  }
 },
 "nbformat": 4,
 "nbformat_minor": 5
}
